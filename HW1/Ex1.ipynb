{
 "cells": [
  {
   "cell_type": "markdown",
   "metadata": {},
   "source": [
    "# 计算物理第一次作业\n",
    ""
   ]
  },
  {
   "cell_type": "code",
   "execution_count": 123,
   "metadata": {},
   "outputs": [
    {
     "name": "stdout",
     "output_type": "stream",
     "text": [
      "Dimension:0 det(H)=1\n",
      "Dimension:1 det(H)=1.0\n",
      "Dimension:2 det(H)=0.08333333333333333\n",
      "Dimension:3 det(H)=0.000462962962962963\n",
      "Dimension:4 det(H)=1.6534391534391535e-07\n",
      "Dimension:5 det(H)=3.749295132515087e-12\n",
      "Dimension:6 det(H)=5.367299887358688e-18\n",
      "Dimension:7 det(H)=4.835802623926117e-25\n",
      "Dimension:8 det(H)=2.7370501137915134e-33\n",
      "Dimension:9 det(H)=9.720234311925e-43\n",
      "Dimension:10 det(H)=2.1641792264314924e-53\n"
     ]
    }
   ],
   "source": [
    "#!/usr/bin/env python\n",
    "\n",
    "# 利用递推关系就可以，不需要使用对数\n",
    "\n",
    "# 阶乘\n",
    "def fac(i):\n",
    "    if i==0:\n",
    "        return 1\n",
    "    else:\n",
    "        return i*(fac(i-1))\n",
    "\n",
    "tmp = 1\n",
    "for i in range(0,11):\n",
    "    print(\"Dimension:\"+str(i),\"det(H)=\"+str(tmp))\n",
    "    tmp = (fac(i)**4) /(fac(2*i + 1)* fac(2*i))* tmp\n",
    "    "
   ]
  },
  {
   "cell_type": "markdown",
   "metadata": {},
   "source": [
    "## 以下是解方程需要用到的函数\n",
    "    具体功能和注意事项均在注释。此处没有使用任何的为矩阵运算优化的包。\n",
    "    使用了串行的编程模式来实现矩阵的各种运算，故程序效率不高，但是基本功能可以实现。"
   ]
  },
  {
   "cell_type": "code",
   "execution_count": 125,
   "metadata": {},
   "outputs": [],
   "source": [
    "def transpose(A):\n",
    "    # To transpose a matrix.\n",
    "    # return type: List\n",
    "    m = len(A); n = len(A[0])\n",
    "    B = []; tmp = []\n",
    "    \n",
    "    for i in range(n):\n",
    "        for j in range(m):\n",
    "            tmp.append(A[j][i])\n",
    "        B.append(tmp)\n",
    "        tmp = []\n",
    "    return B\n",
    "\n",
    "def findMax(a,startingIdx):\n",
    "    # 用于列支点遴选，用于找到列最大元以及其下标, max_{startingIdx<=r<=n} a_{ri}\n",
    "    # arg type : a - list,  startingIdx - int\n",
    "    # return type:   maxidx - int, maxnum - float(same as data in a)\n",
    "    n = len(a)\n",
    "    maxnum = -1\n",
    "    maxidx = -1\n",
    "    for i in range(startingIdx,n):\n",
    "        if a[i]>maxnum:\n",
    "            maxnum=a[i]\n",
    "            maxidx=i;\n",
    "    return maxidx,maxnum\n",
    "\n",
    "def swap(vector,i,j):\n",
    "    # 交换两个向量的值\n",
    "    tmp = vector[i]\n",
    "    vector[i] = vector[j]\n",
    "    vector[j] = tmp\n",
    "\n",
    "def shape(A):\n",
    "    # 得到一个矩阵的尺寸\n",
    "    m = len(A)\n",
    "    n = len(A[0])\n",
    "    return m,n\n",
    "\n",
    "def mdot(A,B):\n",
    "    # 矩阵乘法,如果不符合矩阵要求则报错\n",
    "    # 注意： 若输入矩阵为一维，则需要将每一维的元素从int转为list才能正常进行运算\n",
    "    Am, An = shape(A)\n",
    "    Bm, Bn = shape(B)\n",
    "    C = []\n",
    "    if(An!=Bm):\n",
    "        print(\"Wrong dimension.\\n\")\n",
    "        return\n",
    "    else:\n",
    "        for i in range(Am):\n",
    "            tmplist = []\n",
    "            for j in range(Bn):\n",
    "                tmp = 0\n",
    "                for k in range(An):\n",
    "                    tmp += A[i][k]*B[k][j]\n",
    "                tmplist.append(tmp)\n",
    "            C.append(tmplist)\n",
    "        return C\n",
    "\n",
    "def multiply(scale,array):\n",
    "    # 矢量数乘\n",
    "    n =len(array)\n",
    "    ans = []\n",
    "    for i in range(n):\n",
    "        ans.append(array[i] * scale)\n",
    "    return ans\n",
    "\n",
    "def add(va,vb):\n",
    "    # 向量加法，element-wise add\n",
    "    n =len(va)\n",
    "    ans = []\n",
    "    for i in range(n):\n",
    "        ans.append(va[i] + vb[i])\n",
    "    return ans\n",
    "\n",
    "def solveL(L,b):\n",
    "    # 解下三角线性方程组，要求L为下三角方阵，Lx=b，返回x\n",
    "    # return type: list\n",
    "    n = len(L)\n",
    "    for i in range(n-1):\n",
    "        b[i] /= L[i][i]\n",
    "        for j in range(i+1,n):\n",
    "            b[j] -= b[i]*L[j][i]\n",
    "    b[n-1] /= L[n-1][n-1]\n",
    "    return b\n",
    "    \n",
    "def solveU(U,b):\n",
    "    # 回代法求解上三角线性方程组，要求U为上三角方阵，Ux=b，返回x\n",
    "    # return type: list\n",
    "    n = len(U)\n",
    "    i = n-1\n",
    "    while i >= 0:\n",
    "        b[i] /= U[i][i]\n",
    "        for j in range(i):\n",
    "            b[j] -= U[j][i]*b[i]\n",
    "        i -= 1 结果\n",
    "    b[0] /= U[0][0]\n",
    "    return b\n",
    "    \n",
    "def GEM(_A,_b):\n",
    "    # 带部分指点遴选的高斯消元法解Ax=b\n",
    "    # return type: x - list\n",
    "    A = _A; b = _b;\n",
    "    n = len(b)\n",
    "    x = b\n",
    "    j = 0\n",
    "    for i in range(n):\n",
    "        idx, pivot = findMax(transpose(A)[i],i)\n",
    "        if idx!=i:\n",
    "            swap(A,i,idx)\n",
    "            swap(b,i,idx)\n",
    "        for j in range(i+1,n):\n",
    "            ratio = A[j][i]/pivot\n",
    "            A[j] = add(A[j] , multiply(- A[j][i]/pivot , A[i]))\n",
    "            b[j] = b[j] - (ratio)*b[i]\n",
    "    return solveU(A,b)\n",
    "\n",
    "def Cholesky(_A,_b):\n",
    "    # Cholesky 分解杰Ax=b\n",
    "    # return type: x - list\n",
    "    A = _A; b = _b\n",
    "    n= len(A)\n",
    "    x = b\n",
    "    j = 0\n",
    "    for i in range(n):\n",
    "        A[i][i] = A[i][i] ** 0.5\n",
    "        for j in range(i+1,n):\n",
    "            A[j][i] /= A[i][i]\n",
    "        for j in range(i+1,n):\n",
    "            A[i][j] = 0.\n",
    "            for l in range(j,n):\n",
    "                    A[l][j] = A[l][j] - A[l][i] * A[j][i]\n",
    "    L = A\n",
    "    return solveU(transpose(L),solveL(L,b))\n",
    "\n",
    "def constructH(dim):\n",
    "    # 构造Hilbert matrix 和b= [1,1,...,1]\n",
    "    # return type: H - hilbert matrix, list\n",
    "    #              b - [1,1,...,1], list\n",
    "    H = []\n",
    "    b = []\n",
    "    for i in range(dim):\n",
    "        tmp = []\n",
    "        for j in range(dim):\n",
    "            tmp.append(1/float(i+j+1))\n",
    "        H.append(tmp)\n",
    "        b.append(1)\n",
    "    return H,b"
   ]
  },
  {
   "cell_type": "code",
   "execution_count": 172,
   "metadata": {},
   "outputs": [
    {
     "name": "stdout",
     "output_type": "stream",
     "text": [
      "[1.0]\n",
      "[1.0]\n",
      "[-2.000000000000001, 6.000000000000002]\n",
      "[-2.0000000000000004, 6.000000000000001]\n",
      "[3.0000000000000195, -24.000000000000092, 30.00000000000008]\n",
      "[3.000000000000007, -24.00000000000003, 30.00000000000002]\n",
      "[-3.9999999999993037, 59.99999999999213, -179.999999999981, 139.9999999999876]\n",
      "[-3.999999999999037, 59.999999999988894, -179.99999999997303, 139.99999999998238]\n",
      "[4.999999999999979, -120.00000000002957, 630.0000000002034, -1120.0000000003838, 630.0000000002148]\n",
      "[4.9999999999889155, -119.99999999982066, 629.9999999993023, -1119.999999999025, 629.9999999995512]\n",
      "[-6.00000000112054, 210.00000003295153, -1680.000000226701, 5040.000000596099, -6300.000000662999, 2772.0000002627203]\n",
      "[-6.000000000975177, 210.0000000290558, -1680.0000002016359, 5040.000000533447, -6300.000000596026, 2772.0000002370175]\n",
      "[7.000000043006224, -336.00000171066466, 3780.000016427837, -16800.000063686013, 34650.00011646994, -33264.0001004294, 12012.000032914895]\n",
      "[7.000000042964672, -336.00000171475523, 3780.000016505693, -16800.00006409956, 34650.00011738528, -33264.00010132862, 12012.000033239163]\n",
      "[-7.999999818324994, 503.9999877709137, -7559.999816288542, 46199.99890529325, -138599.99683672006, 216215.99527393188, -168167.9964881835, 51479.99897365093]\n",
      "[-7.999999829005105, 503.99998832543156, -7559.999823409319, 46199.99894351433, -138599.99693926697, 216215.9954189199, -168167.99659144052, 51479.999002830584]\n",
      "[8.999944889619144, -719.9961333388482, 13859.933734496906, -110879.52233744595, 450448.23429520597, -1009004.3717030797, 1261255.8108616385, -823677.458272232, 218789.3695663268]\n",
      "[8.999939371823302, -719.9957392617084, 13859.926896755494, -110879.4725972708, 450448.04913668684, -1009003.9891110901, 1261255.367137961, -823677.1880404878, 218789.30232897875]\n",
      "[-9.998072679877566, 989.8336969701994, -23756.461505818555, 240207.85875270702, -1261106.8018485655, 3783359.11940464, -6726029.839673252, 7000613.364156605, -3937870.1748898993, 923703.0986491785]\n",
      "[-9.997668234803768, 989.7983719614995, -23755.70340866239, 240200.9288274541, -1261073.6092823984, 3783267.5764416014, -6725879.256791485, 7000467.5376583515, -3937793.4846944376, 923686.2089171143]\n"
     ]
    },
    {
     "name": "stderr",
     "output_type": "stream",
     "text": [
      "/home/yipzlf/anaconda3/lib/python3.6/site-packages/ipykernel_launcher.py:32: RuntimeWarning: divide by zero encountered in log\n",
      "/home/yipzlf/anaconda3/lib/python3.6/site-packages/ipykernel_launcher.py:33: RuntimeWarning: divide by zero encountered in log\n"
     ]
    },
    {
     "data": {
      "image/png": "[encoded data removed]",
      "text/plain": [
       "<Figure size 432x288 with 1 Axes>"
      ]
     },
     "metadata": {},
     "output_type": "display_data"
    }
   ],
   "source": [
    "# n 为维数，可以改变n的赋值语句来考察不同维数下得到的解\n",
    "# ans_gem 为用高斯消元法得到的结果\n",
    "# ans_cho 为用Cholesky分解得到的结果\n",
    "# n = 14时结果开始失效\n",
    "mma_ans = {}\n",
    "mma_ans[1] = np.array([1])\n",
    "mma_ans[2] = np.array([-2,6])\n",
    "mma_ans[3] = np.array([3, -24, 30])\n",
    "mma_ans[4] = np.array([-4, 60, -180, 140])\n",
    "mma_ans[5] = np.array([5, -120, 630, -1120, 630])\n",
    "mma_ans[6] = np.array([-6, 210, -1680, 5040, -6300, 2772])\n",
    "mma_ans[7] = np.array([7, -336, 3780, -16800, 34650, -33264, 12012])\n",
    "mma_ans[8] = np.array([-8, 504, -7560, 46200, -138600, 216216, -168168, 51480])\n",
    "mma_ans[9] = np.array([9, -720, 13860, -110880, 450450, -1009008, 1261260, -823680, 218790])\n",
    "mma_ans[10] = np.array([-10, 990, -23760, 240240, -1261260, 3783780, -6726720, 7001280, -3938220, 923780])\n",
    "\n",
    "\n",
    "_res = np.zeros((2,10))\n",
    "for i in range(10):\n",
    "    n = i+1\n",
    "    ans_gem = []\n",
    "    ans_cho = []\n",
    "    A,b = constructH(n)\n",
    "    ans_gem = GEM(A,b)\n",
    "    A,b = constructH(n)\n",
    "    ans_cho = Cholesky(A,b)\n",
    "    print(ans_gem)\n",
    "    print(ans_cho)\n",
    "    _res[0][i] = np.linalg.norm(ans_gem - mma_ans[n])\n",
    "    _res[1][i] = np.linalg.norm(ans_cho - mma_ans[n])\n",
    "\n",
    "plt.plot(range(10),np.log(_res[0]),label='GEM')\n",
    "plt.plot(range(10),np.log(_res[1]),label='Cholesky')\n",
    "\n",
    "plt.title('Difference between run time of the two methods.')\n",
    "plt.xlabel('Dimension')\n",
    "plt.ylabel('time/s')\n",
    "plt.legend()\n",
    "plt.show()"
   ]
  },
  {
   "cell_type": "markdown",
   "metadata": {},
   "source": [
    "由上已知，两种方法得到的结果是不一样的，而且差别不小。以上是作业的基本要求。\n",
    "\n",
    "## 拓展讨论\n",
    "接下来使用python的一些包，来将两种方法在时间效率和准确度上的差别进行可视化。"
   ]
  },
  {
   "cell_type": "code",
   "execution_count": 168,
   "metadata": {},
   "outputs": [
    {
     "name": "stdout",
     "output_type": "stream",
     "text": [
      "[0.00000000e+00 9.93013661e-16 8.88356038e-14 1.00599584e-11\n",
      " 1.77267160e-09 9.85633031e-08 1.38876811e-06 2.11098835e-04\n",
      " 6.76474731e-01 2.44208275e+02 1.64009339e+04 5.48586412e+06\n",
      " 0.00000000e+00]\n"
     ]
    }
   ],
   "source": [
    "import numpy as np\n",
    "import matplotlib.pyplot as plt\n",
    "\n",
    "NUM = 13\n",
    "\n",
    "\n",
    "# 以下部分计算了维数由1到100变化，两种方法得到的结果的差的矢量的模长（L2模）\n",
    "# 存储在res中。\n",
    "res = np.zeros(NUM)\n",
    "for i in range(1,NUM):\n",
    "    n = i\n",
    "    ans_gem = []\n",
    "    ans_cho = []\n",
    "    A,b = constructH(n)\n",
    "    ans_gem = GEM(A,b)\n",
    "    A,b = constructH(n)\n",
    "    ans_cho = Cholesky(A,b)\n",
    "    res[i-1] = np.linalg.norm(np.array(ans_gem)-np.array(ans_cho))\n",
    "print(res)\n"
   ]
  },
  {
   "cell_type": "code",
   "execution_count": 169,
   "metadata": {},
   "outputs": [
    {
     "name": "stdout",
     "output_type": "stream",
     "text": [
      "[0.00000000e+00 8.98838043e-06 2.19821930e-05 5.07593155e-05\n",
      " 7.35759735e-05 1.28364563e-04 1.96695328e-04 2.73346901e-04\n",
      " 3.04126740e-04 3.60536575e-04 4.38642502e-04 8.39829445e-04\n",
      " 8.02850723e-04] [0.00000000e+00 2.00271606e-05 3.85284424e-05 7.35282898e-05\n",
      " 1.06191635e-04 1.90067291e-04 2.54797935e-04 3.66044044e-04\n",
      " 3.93438339e-04 4.57048416e-04 5.53417206e-04 1.01773739e-03\n",
      " 9.79590416e-04]\n"
     ]
    }
   ],
   "source": [
    "# 以下部分计算了维数由1到100变化，两种方法得到的结果运行的时间差（每个维度运行10次取平均值）\n",
    "# 存储在runtimeGEM和runtimeCho中。\n",
    "\n",
    "import time\n",
    "NUM = 13\n",
    "runtimeGEM = np.zeros(NUM)\n",
    "runtimeCho = np.zeros(NUM)\n",
    "for i in range(1,NUM):\n",
    "    rep = 10\n",
    "    n = i \n",
    "    tmp = 0.\n",
    "    ans_gem = []\n",
    "    ans_cho = []\n",
    "    for j in range(rep):\n",
    "        A,b = constructH(n)\n",
    "        start = time.time()\n",
    "        ans_gem = GEM(A,b)\n",
    "        end = time.time()\n",
    "        tmp += (end-start) \n",
    "    runtimeGEM[i] = tmp/rep\n",
    "    \n",
    "    for j in range(rep):\n",
    "        A,b = constructH(n)\n",
    "        start = time.time()\n",
    "        ans_cho = Cholesky(A,b)\n",
    "        end = time.time()\n",
    "        tmp += (end-start) \n",
    "    runtimeCho[i] = tmp/rep\n",
    "\n",
    "print(runtimeGEM,runtimeCho)\n"
   ]
  },
  {
   "cell_type": "code",
   "execution_count": 170,
   "metadata": {},
   "outputs": [
    {
     "name": "stderr",
     "output_type": "stream",
     "text": [
      "/home/yipzlf/anaconda3/lib/python3.6/site-packages/ipykernel_launcher.py:1: RuntimeWarning: divide by zero encountered in log\n",
      "  \"\"\"Entry point for launching an IPython kernel.\n"
     ]
    },
    {
     "data": {
      "image/png": "[encoded data removed]",
      "text/plain": [
       "<Figure size 432x288 with 1 Axes>"
      ]
     },
     "metadata": {},
     "output_type": "display_data"
    }
   ],
   "source": [
    "plt.plot(range(NUM), np.log(res))\n",
    "plt.title('Difference between solutions given by the two methods.')\n",
    "plt.xlabel('Dimension')\n",
    "plt.ylabel('Log(||x1-x2||)')\n",
    "\n",
    "plt.show()"
   ]
  },
  {
   "cell_type": "code",
   "execution_count": 171,
   "metadata": {},
   "outputs": [
    {
     "data": {
      "image/png": "[encoded data removed]",
      "text/plain": [
       "<Figure size 432x288 with 1 Axes>"
      ]
     },
     "metadata": {},
     "output_type": "display_data"
    }
   ],
   "source": [
    "plt.plot(range(NUM),runtimeGEM,label='GEM runtime')\n",
    "plt.plot(range(NUM),runtimeCho,label='Cholesky runtime')\n",
    "\n",
    "plt.title('Difference between run time of the two methods.')\n",
    "plt.xlabel('Dimension')\n",
    "plt.ylabel('time/s')\n",
    "plt.legend()\n",
    "plt.show()"
   ]
  },
  {
   "cell_type": "code",
   "execution_count": null,
   "metadata": {},
   "outputs": [],
   "source": []
  }
 ],
 "metadata": {
  "kernelspec": {
   "display_name": "Python 3",
   "language": "python",
   "name": "python3"
  },
  "language_info": {
   "codemirror_mode": {
    "name": "ipython",
    "version": 3
   },
   "file_extension": ".py",
   "mimetype": "text/x-python",
   "name": "python",
   "nbconvert_exporter": "python",
   "pygments_lexer": "ipython3",
   "version": "3.6.5"
  }
 },
 "nbformat": 4,
 "nbformat_minor": 2
}
